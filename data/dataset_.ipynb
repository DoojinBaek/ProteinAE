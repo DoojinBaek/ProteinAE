{
 "cells": [
  {
   "cell_type": "code",
   "execution_count": 1,
   "metadata": {},
   "outputs": [],
   "source": [
    "import torch\n",
    "import numpy as np"
   ]
  },
  {
   "cell_type": "code",
   "execution_count": 2,
   "metadata": {},
   "outputs": [
    {
     "name": "stdout",
     "output_type": "stream",
     "text": [
      "Training Data: 106084\n",
      "Validation Data: 448\n",
      "Test Data: 444\n"
     ]
    }
   ],
   "source": [
    "training_data = torch.load('./AFPDB_data_128_Train_complete.pt')\n",
    "val_data = torch.load('./PDB_data_128_Val_complete.pt')\n",
    "test_data = torch.load('./PDB_data_128_Test_complete.pt')\n",
    "\n",
    "print('Training Data:', len(training_data))\n",
    "print('Validation Data:', len(val_data))\n",
    "print('Test Data:', len(test_data))"
   ]
  },
  {
   "cell_type": "code",
   "execution_count": 3,
   "metadata": {},
   "outputs": [],
   "source": [
    "np.random.seed(20240315)\n",
    "selected_indices = np.random.choice(len(training_data), len(training_data)//10, replace=False) # select 10% of the training dataset (106,084 -> 10,684)"
   ]
  },
  {
   "cell_type": "code",
   "execution_count": 4,
   "metadata": {},
   "outputs": [],
   "source": [
    "small_training_data = [training_data[i] for i in selected_indices]\n",
    "torch.save(small_training_data, 'AFPDB_data_128_Train_small.pt')"
   ]
  },
  {
   "cell_type": "code",
   "execution_count": null,
   "metadata": {},
   "outputs": [],
   "source": []
  }
 ],
 "metadata": {
  "kernelspec": {
   "display_name": "alphafold",
   "language": "python",
   "name": "python3"
  },
  "language_info": {
   "codemirror_mode": {
    "name": "ipython",
    "version": 3
   },
   "file_extension": ".py",
   "mimetype": "text/x-python",
   "name": "python",
   "nbconvert_exporter": "python",
   "pygments_lexer": "ipython3",
   "version": "3.11.7"
  }
 },
 "nbformat": 4,
 "nbformat_minor": 2
}
